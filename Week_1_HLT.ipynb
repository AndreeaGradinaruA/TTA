{
  "nbformat": 4,
  "nbformat_minor": 0,
  "metadata": {
    "colab": {
      "name": "Week 1 HLT.ipynb",
      "provenance": []
    },
    "kernelspec": {
      "name": "python3",
      "display_name": "Python 3"
    },
    "language_info": {
      "name": "python"
    }
  },
  "cells": [
    {
      "cell_type": "code",
      "metadata": {
        "id": "2e4ot9DjntIo"
      },
      "source": [
        "import random"
      ],
      "execution_count": 1,
      "outputs": []
    },
    {
      "cell_type": "code",
      "metadata": {
        "colab": {
          "base_uri": "https://localhost:8080/"
        },
        "id": "MvQr061SnvtG",
        "outputId": "0390b50b-a37c-41ae-9278-d9a512de3fc3"
      },
      "source": [
        "Random_number=random.randint(1,10)\n",
        "user_input = input(\"What is your name? \")\n",
        "Guess_number=int(input('Guess a number between 1 and 10: '))\n",
        "if Guess_number==Random_number:\n",
        "    print('You have guessed the number correctly')\n",
        "else:\n",
        "    print('Sorry you have guessed the wrong number')"
      ],
      "execution_count": 2,
      "outputs": [
        {
          "output_type": "stream",
          "text": [
            "What is your name? Andy\n",
            "Guess a number between 1 and 10: 4\n",
            "Sorry you have guessed the wrong number\n"
          ],
          "name": "stdout"
        }
      ]
    },
    {
      "cell_type": "code",
      "metadata": {
        "colab": {
          "base_uri": "https://localhost:8080/"
        },
        "id": "CMBX5WAYnx9h",
        "outputId": "cab24a1c-69b1-43a2-c0cb-dafd62b67e6a"
      },
      "source": [
        "print(Random_number)"
      ],
      "execution_count": 4,
      "outputs": [
        {
          "output_type": "stream",
          "text": [
            "8\n"
          ],
          "name": "stdout"
        }
      ]
    },
    {
      "cell_type": "code",
      "metadata": {
        "id": "4FKCvA8hn3lx"
      },
      "source": [
        ""
      ],
      "execution_count": null,
      "outputs": []
    },
    {
      "cell_type": "markdown",
      "metadata": {
        "id": "c22TyZ5ln-qB"
      },
      "source": [
        "Question 2"
      ]
    },
    {
      "cell_type": "code",
      "metadata": {
        "id": "ICI4xNrNoBKN"
      },
      "source": [
        ""
      ],
      "execution_count": null,
      "outputs": []
    }
  ]
}